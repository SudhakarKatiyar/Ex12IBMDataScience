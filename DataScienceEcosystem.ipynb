{
 "cells": [
  {
   "cell_type": "markdown",
   "id": "f6568c00-0a49-4b46-965e-feb06be1b839",
   "metadata": {},
   "source": [
    "# Data Science Tools and Ecosystem"
   ]
  },
  {
   "cell_type": "markdown",
   "id": "5120683d-d102-4c97-8aac-8a042cc3431d",
   "metadata": {},
   "source": [
    "In this notebook, tools and features of jupyter with data Science are summarized."
   ]
  },
  {
   "cell_type": "markdown",
   "id": "e9222e78-76d2-4a16-b4c9-ffa80151cb6e",
   "metadata": {},
   "source": [
    "Objectives:\n",
    "  To know the and practice all the important features of jupyter notebook\n",
    "  To learn some basic concepts of python\n",
    "  To practice some data science concepts using notebook"
   ]
  },
  {
   "cell_type": "markdown",
   "id": "ef2e73f9-4614-4324-99a6-7bb8a9a2bc17",
   "metadata": {},
   "source": [
    "Some of the popular languages that Data Scientists use are:\n",
    "1. Python\n",
    "2. R\n",
    "3. Scala"
   ]
  },
  {
   "cell_type": "markdown",
   "id": "643614df-b28d-43a2-a8cd-309510e117ff",
   "metadata": {},
   "source": [
    "Some of the commonly used libraries used by Data Scientists include:\n",
    "1. Pandas\n",
    "2. Numpy\n",
    "3. NLTK"
   ]
  },
  {
   "cell_type": "markdown",
   "id": "8439883b-ce28-4db3-80a1-39bfb6f805fc",
   "metadata": {},
   "source": [
    "Data Science Tools-\n",
    "1. Jupyter\n",
    "2. VScode\n",
    "3. Pycharm"
   ]
  },
  {
   "cell_type": "markdown",
   "id": "5426a1f1-e18d-463a-b0bc-6ba4ed1838c9",
   "metadata": {},
   "source": [
    "### Below are a few examples of evaluating arithmetic expressions in Python"
   ]
  },
  {
   "cell_type": "code",
   "execution_count": 1,
   "id": "f46dc659-6f92-417e-92c1-eca080547814",
   "metadata": {},
   "outputs": [
    {
     "data": {
      "text/plain": [
       "17"
      ]
     },
     "execution_count": 1,
     "metadata": {},
     "output_type": "execute_result"
    }
   ],
   "source": [
    "# This a simple arithmetic expression to mutiply then add integers\n",
    "x = (3*4)+5\n",
    "x"
   ]
  },
  {
   "cell_type": "code",
   "execution_count": 2,
   "id": "6675bf21-8eb8-4c7d-ac3e-fd45938f2e8c",
   "metadata": {},
   "outputs": [
    {
     "data": {
      "text/plain": [
       "3.3333333333333335"
      ]
     },
     "execution_count": 2,
     "metadata": {},
     "output_type": "execute_result"
    }
   ],
   "source": [
    "m = 200\n",
    "h = 200/60\n",
    "h\n",
    "# This will convert 200 minutes to hours by diving by 60"
   ]
  },
  {
   "cell_type": "markdown",
   "id": "a62e30dc-207c-4fb7-9449-21ac54e003d7",
   "metadata": {},
   "source": [
    "## Author\n",
    "Sudhakar"
   ]
  }
 ],
 "metadata": {
  "kernelspec": {
   "display_name": "Python 3 (ipykernel)",
   "language": "python",
   "name": "python3"
  },
  "language_info": {
   "codemirror_mode": {
    "name": "ipython",
    "version": 3
   },
   "file_extension": ".py",
   "mimetype": "text/x-python",
   "name": "python",
   "nbconvert_exporter": "python",
   "pygments_lexer": "ipython3",
   "version": "3.12.1"
  }
 },
 "nbformat": 4,
 "nbformat_minor": 5
}
